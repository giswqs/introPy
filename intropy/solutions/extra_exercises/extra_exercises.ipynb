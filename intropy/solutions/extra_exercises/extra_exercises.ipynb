{
 "cells": [
  {
   "cell_type": "markdown",
   "metadata": {},
   "source": [
    "# Extra exercises\n",
    "Some extra exercises to practice with Python, Pandas, and Matplotlib."
   ]
  },
  {
   "cell_type": "markdown",
   "metadata": {},
   "source": [
    "## Basic Python\n",
    "The following ToDos help you practice with basic Python syntax and operations."
   ]
  },
  {
   "cell_type": "markdown",
   "metadata": {},
   "source": [
    "<div class='alert alert-warning'>\n",
    "    <b>ToDo</b>: Add five to the value in the variable <tt>x</tt> below and then raise the result to the fourth power. Store the result in a variable named <tt>y</tt>. \n",
    "</div>"
   ]
  },
  {
   "cell_type": "code",
   "execution_count": null,
   "metadata": {
    "nbgrader": {
     "grade": false,
     "grade_id": "cell-b0d27940128b795c",
     "locked": false,
     "schema_version": 3,
     "solution": true,
     "task": false
    },
    "tags": [
     "hide-cell"
    ]
   },
   "outputs": [],
   "source": [
    "\"\"\" Implement the ToDo here. \"\"\"\n",
    "x = -3.5\n",
    "\n",
    "### BEGIN SOLUTION\n",
    "y = (x + 5) ** 3\n",
    "### END SOLUTION"
   ]
  },
  {
   "cell_type": "code",
   "execution_count": null,
   "metadata": {
    "nbgrader": {
     "grade": true,
     "grade_id": "cell-4e6dfbc2a27ff1eb",
     "locked": true,
     "points": 0,
     "schema_version": 3,
     "solution": false,
     "task": false
    }
   },
   "outputs": [],
   "source": [
    "\"\"\" Tests the above ToDo. \"\"\"\n",
    "assert(y == 3.375)\n",
    "print(\"Well done!\")"
   ]
  },
  {
   "cell_type": "markdown",
   "metadata": {},
   "source": [
    "<div class='alert alert-warning'>\n",
    "    <b>ToDo</b>: From the list below (<tt>my_list</tt>), extract every element at an odd index (at index 1, at index 3, at index 5, etc.) and store it in a new variable named <tt>my_list_index_odd</tt>. Note: you don't have to use a for-loop for this (but you can, if you want). Remember: Python is zero-indexed (i.e., the first element is at index 0).\n",
    "</div>"
   ]
  },
  {
   "cell_type": "code",
   "execution_count": null,
   "metadata": {
    "nbgrader": {
     "grade": false,
     "grade_id": "cell-fe48b3cc91b45129",
     "locked": false,
     "schema_version": 3,
     "solution": true,
     "task": false
    },
    "tags": [
     "hide-cell"
    ]
   },
   "outputs": [],
   "source": [
    "\"\"\" Implement the ToDo here. \"\"\"\n",
    "my_list = ['a', 'b', 'c', 'd', 'e', 'f', 'g', 'h']\n",
    "\n",
    "### BEGIN SOLUTION\n",
    "my_list_index_odd = my_list[1::2]\n",
    "### END SOLUTION"
   ]
  },
  {
   "cell_type": "code",
   "execution_count": null,
   "metadata": {
    "nbgrader": {
     "grade": true,
     "grade_id": "cell-e1ec638db47ec2b3",
     "locked": true,
     "points": 0,
     "schema_version": 3,
     "solution": false,
     "task": false
    }
   },
   "outputs": [],
   "source": [
    "\"\"\" Tests the above ToDo. \"\"\"\n",
    "assert(my_list_index_odd == ['b', 'd', 'f', 'h'])\n",
    "print(\"Well done!\")"
   ]
  },
  {
   "cell_type": "markdown",
   "metadata": {},
   "source": [
    "<div class='alert alert-warning'>\n",
    "    <b>ToDo</b>: From the list below (<tt>my_list2</tt>), extract the strings with five or more letters and store the result (another list) in a variable named <tt>my_list_filtered</tt>.\n",
    "</div>"
   ]
  },
  {
   "cell_type": "code",
   "execution_count": null,
   "metadata": {
    "nbgrader": {
     "grade": false,
     "grade_id": "cell-fdb1e6c6c6c8eef3",
     "locked": false,
     "schema_version": 3,
     "solution": true,
     "task": false
    },
    "tags": [
     "hide-cell"
    ]
   },
   "outputs": [],
   "source": [
    "\"\"\" Implement the ToDo here. \"\"\"\n",
    "my_list2 = ['hello', 'dear', 'student', ',', 'good', 'luck', 'on', 'this', 'ToDo!']\n",
    "\n",
    "### BEGIN SOLUTION\n",
    "my_list_filtered = [s for s in my_list2 if len(s) > 4]\n",
    "# or:\n",
    "my_list_filtered = []\n",
    "for s in my_list2:\n",
    "    if len(s) > 4:\n",
    "        my_list_filtered.append(s)\n",
    "### END SOLUTION\n",
    "my_list_filtered"
   ]
  },
  {
   "cell_type": "code",
   "execution_count": null,
   "metadata": {
    "nbgrader": {
     "grade": true,
     "grade_id": "cell-ea01a2700593442c",
     "locked": true,
     "points": 0,
     "schema_version": 3,
     "solution": false,
     "task": false
    }
   },
   "outputs": [],
   "source": [
    "\"\"\" Tests the above ToDo. \"\"\"\n",
    "assert(my_list_filtered == ['hello', 'student', 'ToDo!'])\n",
    "print(\"Well done!\")"
   ]
  },
  {
   "cell_type": "markdown",
   "metadata": {},
   "source": [
    "<div class='alert alert-warning'>\n",
    "    <b>ToDo</b>: From the list below (<tt>my_list3</tt>, extract all even numbers (e.g., 0, 2, 100, 52) and store the result (another list) in a variable named <tt>my_list_even</tt>. Note: this ToDo is testing your google skills!\n",
    "</div>"
   ]
  },
  {
   "cell_type": "code",
   "execution_count": null,
   "metadata": {
    "nbgrader": {
     "grade": false,
     "grade_id": "cell-b35c6fa93d569dcd",
     "locked": false,
     "schema_version": 3,
     "solution": true,
     "task": false
    },
    "tags": [
     "hide-cell"
    ]
   },
   "outputs": [],
   "source": [
    "\"\"\" Implement the ToDo here. \"\"\"\n",
    "my_list3 = [1, 8, -4, 0, 5820, 6823591, 99, 87, 27, 2386, 1242, 1111, 582353]\n",
    "### BEGIN SOLUTION\n",
    "my_list_even = [v for v in my_list3 if v % 2 == 0]\n",
    "# or:\n",
    "my_list_even = []\n",
    "for v in my_list3:\n",
    "    if v % 2 == 0:\n",
    "        my_list_even.append(v)\n",
    "### END SOLUTION"
   ]
  },
  {
   "cell_type": "code",
   "execution_count": null,
   "metadata": {
    "nbgrader": {
     "grade": true,
     "grade_id": "cell-dea4ecac8af0d7ce",
     "locked": true,
     "points": 0,
     "schema_version": 3,
     "solution": false,
     "task": false
    }
   },
   "outputs": [],
   "source": [
    "\"\"\" Tests the above ToDo. \"\"\"\n",
    "assert(sorted(my_list_even) == [-4, 0, 8, 1242, 2386, 5820])\n",
    "print(\"Well done!\")"
   ]
  },
  {
   "cell_type": "markdown",
   "metadata": {},
   "source": [
    "<div class='alert alert-warning'>\n",
    "    <b>ToDo</b>: The list below (<tt>graded_per_day</tt>) contains integers that represent the number of essays I graded in the past week (Monday-Friday). Compute the percentage of essays I graded for each day and store the result (another list) in a new variable with the name <tt>percentage_per_day</tt>. Hint: to get a percetage, you divide a number by the sum of the collection and then multiply it by 100.\n",
    "</div>"
   ]
  },
  {
   "cell_type": "code",
   "execution_count": null,
   "metadata": {
    "nbgrader": {
     "grade": false,
     "grade_id": "cell-f9db1ce98ead86b9",
     "locked": false,
     "schema_version": 3,
     "solution": true,
     "task": false
    },
    "tags": [
     "hide-cell"
    ]
   },
   "outputs": [],
   "source": [
    "\"\"\" Implement the ToDo here. \"\"\"\n",
    "graded_per_day = [20, 10, 8, 12]\n",
    "\n",
    "### BEGIN SOLUTION\n",
    "percentage_per_day = [v / sum(graded_per_day) * 100 for v in graded_per_day]\n",
    "### END SOLUTION"
   ]
  },
  {
   "cell_type": "code",
   "execution_count": null,
   "metadata": {
    "nbgrader": {
     "grade": true,
     "grade_id": "cell-1f8744943f1ce992",
     "locked": true,
     "points": 0,
     "schema_version": 3,
     "solution": false,
     "task": false
    }
   },
   "outputs": [],
   "source": [
    "\"\"\" Tests the above ToDo. \"\"\"\n",
    "assert([float(p) for p in percentage_per_day] == [40.0, 20.0, 16.0, 24.0])\n",
    "print(\"Well done!\")"
   ]
  },
  {
   "cell_type": "markdown",
   "metadata": {},
   "source": [
    "<div class='alert alert-warning'>\n",
    "    <b>ToDo</b> (difficult!): The covariance between two variables ($x$, $y$) of length $n$ is computed as follows:\n",
    "    \n",
    "\\begin{align}\n",
    "\\mathrm{cov}_{xy} = \\frac{\\Sigma_{i}^{n} (x_{i} - \\bar{x})(y_{i} - \\bar{y})}{n-1}\n",
    "\\end{align}\n",
    "    \n",
    "Compute the covariance (a single float!) between the two lists (<tt>z1</tt> and <tt>z2</tt>) below and store it in a variable with the name <tt>cov_z1z2</tt>. You may use the order of steps below:\n",
    "    \n",
    "* Compute the mean of the two lists\n",
    "* Create two new lists in which each value has been subtracted with the list's mean\n",
    "* Write a for-loop (or list comprehension) that multiplies each value in one list with the corresponding value in the other list (resulting in another list)\n",
    "* Sum the results from the previous step\n",
    "* Divide the result by the length of the list minus 1\n",
    "</div>"
   ]
  },
  {
   "cell_type": "code",
   "execution_count": null,
   "metadata": {
    "nbgrader": {
     "grade": false,
     "grade_id": "cell-adae86f85884dfd0",
     "locked": false,
     "schema_version": 3,
     "solution": true,
     "task": false
    },
    "tags": [
     "hide-cell"
    ]
   },
   "outputs": [],
   "source": [
    "\"\"\" Implement the ToDo here. \"\"\"\n",
    "import random\n",
    "z1 = [random.uniform(0, 1) for _ in range(20)]\n",
    "z2 = [random.uniform(0, 1) for _ in range(20)]\n",
    "\n",
    "### BEGIN SOLUTION\n",
    "z1c = [v - (sum(z1) / len(z1)) for v in z1]\n",
    "z2c = [v - (sum(z2) / len(z2)) for v in z2]\n",
    "z1z2 = [z1c[i] * z2c[i] for i in range(len(z1c))]\n",
    "cov_z1z2 = sum(z1z2) / (len(z1c) - 1)\n",
    "### END SOLUTION"
   ]
  },
  {
   "cell_type": "code",
   "execution_count": null,
   "metadata": {
    "nbgrader": {
     "grade": true,
     "grade_id": "cell-b7f22f2f07201b27",
     "locked": true,
     "points": 0,
     "schema_version": 3,
     "solution": false,
     "task": false
    }
   },
   "outputs": [],
   "source": [
    "\"\"\" Tests the above ToDo. \"\"\"\n",
    "import numpy as np\n",
    "assert(round(cov_z1z2, 3) == round(np.cov(z1, z2)[0, 1], 3))\n",
    "print(\"Well done!\")"
   ]
  },
  {
   "cell_type": "markdown",
   "metadata": {},
   "source": [
    "## Matplotlib\n",
    "Two Matplotlib exercises (both relatively difficult)."
   ]
  },
  {
   "cell_type": "markdown",
   "metadata": {},
   "source": [
    "<div class='alert alert-warning'>\n",
    "    <b>ToDo</b>: Below, we simulate the resting heart rate (<tt>rhr</tt>, in beats per minute) for 100 people, who are either male ('M') or female ('F') in this example (stored in the <tt>gend</tt> variable). Using Matplotlib, plot the histogram of the resting heart rate of males and females separately, but in the same plot! Make sure that the transparency of the bars of the histograms are set to 50% (google this!). Add a legend and sensible axis labels.\n",
    "</div>"
   ]
  },
  {
   "cell_type": "code",
   "execution_count": null,
   "metadata": {
    "nbgrader": {
     "grade": true,
     "grade_id": "cell-b029f559fcfbbcdf",
     "locked": false,
     "points": 0,
     "schema_version": 3,
     "solution": true,
     "task": false
    },
    "tags": [
     "hide-cell"
    ]
   },
   "outputs": [],
   "source": [
    "\"\"\" Implement the ToDo here. \"\"\"\n",
    "np.random.seed(42)\n",
    "rhr = np.random.normal(62, 4, size=500).astype(int).tolist()\n",
    "gend = [np.random.choice(['M', 'F']) for _ in range(500)]\n",
    "\n",
    "### BEGIN SOLUTION\n",
    "import matplotlib.pyplot as plt\n",
    "for g in ['M', 'F']:\n",
    "    data = [rhr[i] for i in range(100) if gend[i] == g]\n",
    "    plt.hist(data, alpha=0.5)\n",
    "\n",
    "plt.legend(['M', 'F'])\n",
    "plt.xticks([45, 50, 55, 60, 65, 70, 75, 80])\n",
    "plt.ylabel('Frequency')\n",
    "plt.xlabel('Resting heart rate')\n",
    "#plt.savefig('rhr_by_gender.png')\n",
    "plt.show()\n",
    "### END SOLUTION"
   ]
  },
  {
   "cell_type": "code",
   "execution_count": null,
   "metadata": {},
   "outputs": [],
   "source": [
    "\"\"\" Tests the above ToDo. \"\"\"\n",
    "# Your plot should look like the one below!\n",
    "from IPython.display import Image\n",
    "Image('rhr_by_gender.png')"
   ]
  },
  {
   "cell_type": "markdown",
   "metadata": {},
   "source": [
    "<div class='alert alert-warning'>\n",
    "    <b>ToDo</b>: Create a bar graph with the average heart rate for three groups:\n",
    "    <ul>\n",
    "        <li>People with a RHR &lt; 58 (\"athletic\")</li>\n",
    "        <li>People with a 58 &le; RHR &le; 65(\"average\")</li>\n",
    "        <li>People with a RHR &gt; 65 (\"sedentary\")</li>\n",
    "    </ul>\n",
    "\n",
    "Do this separately for men (\"M\") and women (\"F\"), such that there are six bars (athletic/men, athletic/women, average/men, average/women, sedentary/men, sedentary/women). \n",
    "</div>"
   ]
  },
  {
   "cell_type": "code",
   "execution_count": null,
   "metadata": {
    "nbgrader": {
     "grade": false,
     "grade_id": "cell-ce0494ce9265e5a6",
     "locked": false,
     "schema_version": 3,
     "solution": true,
     "task": false
    },
    "tags": [
     "hide-cell"
    ]
   },
   "outputs": [],
   "source": [
    "\"\"\" Implement the ToDo here. Requires quite a lot of code! \"\"\"\n",
    "\n",
    "### BEGIN SOLUTION\n",
    "avs = []\n",
    "for g in ['M', 'F']:\n",
    "    dat = [rhr[i] for i in range(len(rhr)) if gend[i] == g]\n",
    "    dat_ath = [val for val in dat if val < 58]\n",
    "    avs.append(sum(dat_ath) / len(dat_ath))\n",
    "    dat_ave = [val for val in dat if val >= 58 or val <= 65]\n",
    "    avs.append(sum(dat_ave) / len(dat_ave))\n",
    "    dat_sed = [val for val in dat if val > 65]\n",
    "    avs.append(sum(dat_sed) / len(dat_sed))\n",
    "\n",
    "labels = ['Athletic (M)', 'Average (M)', 'Sedentary (M)',\n",
    "          'Athletic (F)', 'Average (F)', 'Sedentary (F)',\n",
    "         ]\n",
    "plt.bar(labels, avs)\n",
    "plt.xticks(labels, rotation=90)\n",
    "plt.ylabel('Resting heart rate (b.p.m.)')\n",
    "#plt.tight_layout()\n",
    "#plt.savefig('rhr_stratified.png')\n",
    "plt.show()\n",
    "### END SOLUTION"
   ]
  },
  {
   "cell_type": "code",
   "execution_count": null,
   "metadata": {},
   "outputs": [],
   "source": [
    "\"\"\" Tests the above ToDo. \"\"\"\n",
    "# Your plot should look like the one below!\n",
    "from IPython.display import Image\n",
    "Image('rhr_stratified.png')"
   ]
  },
  {
   "cell_type": "markdown",
   "metadata": {},
   "source": [
    "## Pandas\n",
    "Some Pandas exercises."
   ]
  },
  {
   "cell_type": "code",
   "execution_count": null,
   "metadata": {},
   "outputs": [],
   "source": [
    "import random\n",
    "import pandas as pd\n",
    "\n",
    "n = 30\n",
    "df = pd.DataFrame({\n",
    "    'participant_id': ['sub-' + str(i).zfill(2) for i in range(1, n + 1)],\n",
    "    'gender': [random.choice(['M', 'F']) for _ in range(n)],\n",
    "    'condition': ['A', 'B', 'C'] * (n // 3),\n",
    "    'prop_correct': np.random.uniform(0.4, 1, size=n),\n",
    "    'mean_rt': np.random.normal(200, 20, n)\n",
    "})\n",
    "df.iloc[np.random.choice(range(n), size=2), -1] = np.nan"
   ]
  },
  {
   "cell_type": "markdown",
   "metadata": {},
   "source": [
    "<div class='alert alert-warning'>\n",
    "    <b>ToDo</b>: Remove all participants with missing reaction time data (\"mean_rt\" column) and store it in a new variable named <tt>df_clean</tt>.\n",
    "</div>"
   ]
  },
  {
   "cell_type": "code",
   "execution_count": null,
   "metadata": {
    "nbgrader": {
     "grade": false,
     "grade_id": "cell-6dcf3622c02c4f74",
     "locked": false,
     "schema_version": 3,
     "solution": true,
     "task": false
    },
    "tags": [
     "hide-cell"
    ]
   },
   "outputs": [],
   "source": [
    "\"\"\" Implement the ToDo here. \"\"\"\n",
    "\n",
    "### BEGIN SOLUTION\n",
    "df_clean = df.dropna(axis=0)\n",
    "### END SOLUTION"
   ]
  },
  {
   "cell_type": "code",
   "execution_count": null,
   "metadata": {
    "nbgrader": {
     "grade": true,
     "grade_id": "cell-9ab74455f585576a",
     "locked": true,
     "points": 0,
     "schema_version": 3,
     "solution": false,
     "task": false
    }
   },
   "outputs": [],
   "source": [
    "\"\"\" Tests the above ToDo. \"\"\"\n",
    "assert(df_clean.shape[0] == df.shape[0] - 2)\n",
    "assert(df_clean.shape[1] == df.shape[1])\n",
    "\n",
    "print(\"Well done.\")"
   ]
  },
  {
   "cell_type": "markdown",
   "metadata": {},
   "source": [
    "Let's delete the original `df` for now:"
   ]
  },
  {
   "cell_type": "code",
   "execution_count": null,
   "metadata": {},
   "outputs": [],
   "source": [
    "del df"
   ]
  },
  {
   "cell_type": "markdown",
   "metadata": {},
   "source": [
    "<div class='alert alert-warning'>\n",
    "    <b>ToDo</b>: Select from the <tt>df_clean</tt> dataframe the subset of male participants and save them in a new dataframe with the name <tt>df_m</tt>.\n",
    "</div>"
   ]
  },
  {
   "cell_type": "code",
   "execution_count": null,
   "metadata": {
    "nbgrader": {
     "grade": false,
     "grade_id": "cell-f295d94e3006a796",
     "locked": false,
     "schema_version": 3,
     "solution": true,
     "task": false
    },
    "tags": [
     "hide-cell"
    ]
   },
   "outputs": [],
   "source": [
    "\"\"\" Implement the ToDo here. \"\"\"\n",
    "\n",
    "### BEGIN SOLUTION\n",
    "idx = df_clean.loc[:, 'gender'] == 'M'\n",
    "df_m = df_clean.loc[idx, :]\n",
    "### END SOLUTION"
   ]
  },
  {
   "cell_type": "code",
   "execution_count": null,
   "metadata": {
    "nbgrader": {
     "grade": true,
     "grade_id": "cell-e369acb5f954b622",
     "locked": true,
     "points": 0,
     "schema_version": 3,
     "solution": false,
     "task": false
    }
   },
   "outputs": [],
   "source": [
    "\"\"\" Tests the above ToDo. \"\"\"\n",
    "assert(all(df_m.loc[:, 'gender'] == 'M'))\n",
    "print(\"Well done!\")"
   ]
  },
  {
   "cell_type": "markdown",
   "metadata": {},
   "source": [
    "<div class='alert alert-warning'>\n",
    "    <b>ToDo</b>: Select from the <tt>df_clean</tt> dataframe the subset of participants who have more than 65% correct (\"prop_correct\") and a mean reaction time smaller than 100 ms. Store the result in a new variable named <tt>df_select</tt>.\n",
    "</div>"
   ]
  },
  {
   "cell_type": "code",
   "execution_count": null,
   "metadata": {
    "nbgrader": {
     "grade": false,
     "grade_id": "cell-7f6be746a9000824",
     "locked": false,
     "schema_version": 3,
     "solution": true,
     "task": false
    },
    "tags": [
     "hide-cell"
    ]
   },
   "outputs": [],
   "source": [
    "\"\"\" Implement the ToDo here. \"\"\"\n",
    "\n",
    "### BEGIN SOLUTION\n",
    "idx = (df_clean.loc[:, 'prop_correct'] > 0.65) & (df_clean.loc[:, 'mean_rt'] < 200)\n",
    "df_select = df_clean.loc[idx, :]\n",
    "### END SOLUTION"
   ]
  },
  {
   "cell_type": "code",
   "execution_count": null,
   "metadata": {
    "nbgrader": {
     "grade": true,
     "grade_id": "cell-1ec59152ad370fa9",
     "locked": true,
     "points": 0,
     "schema_version": 3,
     "solution": false,
     "task": false
    }
   },
   "outputs": [],
   "source": [
    "\"\"\" Tests the above ToDo. \"\"\"\n",
    "assert(all(df_select.loc[:, 'mean_rt'] < 200))\n",
    "assert(all(df_select.loc[:, 'prop_correct'] > 0.65))\n",
    "\n",
    "print(\"Well done!\")"
   ]
  },
  {
   "cell_type": "markdown",
   "metadata": {},
   "source": [
    "<div class='alert alert-warning'>\n",
    "    <b>ToDo</b>: Add a new column to the dataframe, \"status\", which contains either the string \"above_average\" or \"below_average\" depending on whether the participant has a \"prop_correct\" score higher than the average or lower than the average, respectively. This column should be added to the <tt>df_clean</tt> dataframe. Note: if you get a \"SettingWithCopyWarning\", you may ignore this.\n",
    "</div>"
   ]
  },
  {
   "cell_type": "code",
   "execution_count": null,
   "metadata": {
    "nbgrader": {
     "grade": false,
     "grade_id": "cell-c2161eb74ff9c025",
     "locked": false,
     "schema_version": 3,
     "solution": true,
     "task": false
    },
    "tags": [
     "hide-cell"
    ]
   },
   "outputs": [],
   "source": [
    "\"\"\" Implement the ToDo here. \"\"\"\n",
    "\n",
    "### BEGIN SOLUTION\n",
    "mu = df_clean.loc[:, 'prop_correct'].mean()\n",
    "for idx in df_clean.index:\n",
    "    if df_clean.loc[idx, 'prop_correct'] > mu:\n",
    "        df_clean.loc[idx, 'status'] = 'above_average'\n",
    "    else:\n",
    "        df_clean.loc[idx, 'status'] = 'below_average'\n",
    "### END SOLUTION"
   ]
  },
  {
   "cell_type": "code",
   "execution_count": null,
   "metadata": {
    "nbgrader": {
     "grade": true,
     "grade_id": "cell-bfd56a45782e5b6f",
     "locked": true,
     "points": 0,
     "schema_version": 3,
     "solution": false,
     "task": false
    }
   },
   "outputs": [],
   "source": [
    "\"\"\" Tests the above ToDo. \"\"\"\n",
    "assert(all(df_clean.query(\"status == 'below_average'\")['prop_correct'] < df_clean['prop_correct'].mean()))\n",
    "assert(all(df_clean.query(\"status == 'above_average'\")['prop_correct'] > df_clean['prop_correct'].mean()))\n",
    "print(\"Well done!\")"
   ]
  },
  {
   "cell_type": "markdown",
   "metadata": {},
   "source": [
    "<div class='alert alert-warning'>\n",
    "    <b>ToDo</b>: Using Matplotlib, create a scatterplot with the variables \"prop_correct\" (on the x-axis) and \"mean_rt\" (on the y-axis).\n",
    "</div>"
   ]
  },
  {
   "cell_type": "code",
   "execution_count": null,
   "metadata": {
    "nbgrader": {
     "grade": true,
     "grade_id": "cell-bae1774a7bbb5eda",
     "locked": false,
     "points": 0,
     "schema_version": 3,
     "solution": true,
     "task": false
    },
    "tags": [
     "hide-cell"
    ]
   },
   "outputs": [],
   "source": [
    "\"\"\" Implement the ToDo here. \"\"\"\n",
    "### BEGIN SOLUTION\n",
    "plt.scatter(df_clean.loc[:, 'prop_correct'], df_clean.loc[:, 'mean_rt'])\n",
    "plt.xlabel('Proportion correct')\n",
    "plt.ylabel('Mean RT')\n",
    "plt.show()\n",
    "### END SOLUTION"
   ]
  },
  {
   "cell_type": "markdown",
   "metadata": {},
   "source": [
    "<div class='alert alert-warning'>\n",
    "    <b>ToDo</b>: Compute the correlation between proportion correct and mean RT (using, e.g., he <tt>pearsonr</tt> function from the <tt>scipy.stats</tt> module) <em>for each group (\"A\", \"B\", and \"C\") separately</em>. Store these three floats (i.e., the correlations) in a list with the variable name <tt>corrs_conditions</tt>. Hint: take a good look at what the <tt>pearsonr</tt> function returns exactly!\n",
    "    \n",
    "Note that, in real life, doing such \"subgroup\" analyses is probably a bad idea ;-)\n",
    "</div>"
   ]
  },
  {
   "cell_type": "code",
   "execution_count": null,
   "metadata": {
    "nbgrader": {
     "grade": false,
     "grade_id": "cell-7d248bccdb7d4cad",
     "locked": false,
     "schema_version": 3,
     "solution": true,
     "task": false
    },
    "tags": [
     "hide-cell"
    ]
   },
   "outputs": [],
   "source": [
    "\"\"\" Implement the ToDo here. \"\"\"\n",
    "from scipy.stats import pearsonr\n",
    "\n",
    "### BEGIN SOLUTION\n",
    "corrs_conditions = []\n",
    "for group in ['A', 'B', 'C']:\n",
    "    tmp = df_clean.loc[df_clean.loc[:, 'condition'] == group, :]\n",
    "    corr = pearsonr(tmp.loc[:, 'mean_rt'], tmp.loc[:, 'prop_correct'])[0]\n",
    "    corrs_conditions.append(corr)\n",
    "### END SOLUTION"
   ]
  },
  {
   "cell_type": "code",
   "execution_count": null,
   "metadata": {
    "nbgrader": {
     "grade": true,
     "grade_id": "cell-5cdffb679b3f0e18",
     "locked": true,
     "points": 0,
     "schema_version": 3,
     "solution": false,
     "task": false
    }
   },
   "outputs": [],
   "source": [
    "\"\"\" Tests the above ToDo. Don't use this implementation ;-)\"\"\"\n",
    "ans = df_clean.groupby('condition')[['mean_rt', 'prop_correct']].corr().iloc[1::2, 0].tolist()\n",
    "np.testing.assert_array_almost_equal(ans, corrs_conditions, decimal=4)\n",
    "print(\"Well done!\")"
   ]
  }
 ],
 "metadata": {
  "celltoolbar": "Tags",
  "kernelspec": {
   "display_name": "Python 3",
   "language": "python",
   "name": "python3"
  },
  "language_info": {
   "codemirror_mode": {
    "name": "ipython",
    "version": 3
   },
   "file_extension": ".py",
   "mimetype": "text/x-python",
   "name": "python",
   "nbconvert_exporter": "python",
   "pygments_lexer": "ipython3",
   "version": "3.8.5"
  },
  "toc": {
   "base_numbering": 1,
   "nav_menu": {
    "height": "340px",
    "width": "382px"
   },
   "number_sections": true,
   "sideBar": true,
   "skip_h1_title": true,
   "title_cell": "Table of Contents",
   "title_sidebar": "Contents",
   "toc_cell": true,
   "toc_position": {},
   "toc_section_display": true,
   "toc_window_display": false
  }
 },
 "nbformat": 4,
 "nbformat_minor": 4
}
